{
 "nbformat": 4,
 "nbformat_minor": 2,
 "metadata": {
  "language_info": {
   "name": "python",
   "codemirror_mode": {
    "name": "ipython",
    "version": 3
   },
   "version": "3.7.7-final"
  },
  "orig_nbformat": 2,
  "file_extension": ".py",
  "mimetype": "text/x-python",
  "name": "python",
  "npconvert_exporter": "python",
  "pygments_lexer": "ipython3",
  "version": 3,
  "kernelspec": {
   "name": "python37764bit8d214910155f4a26ae8b35dddad4f9a3",
   "display_name": "Python 3.7.7 64-bit"
  }
 },
 "cells": [
  {
   "cell_type": "markdown",
   "metadata": {},
   "source": [
    "<h1> Aprendiendo Python en Jupyter <h1>"
   ],
   "execution_count": null,
   "outputs": []
  },
  {
   "cell_type": "code",
   "execution_count": null,
   "metadata": {},
   "outputs": [],
   "source": [
    "#Operaciones con strings\n",
    "my_str = 'Johan m'\n",
    "print(len(my_str)) #Retorna el tamaño del str\n",
    "print(len(my_str[0]))#Retorna el caracter en la posicion 0\n",
    "print(len(my_str[:4]))\n",
    "print(len(my_str[2:]))\n",
    "print(len(my_str[::2]))\n",
    "\n",
    "print('hola yo soy '+{my_str})# El operador + concatena los strings\n",
    "print(my_str * 5) #Repetir la cadena el número de veces que el multiplo\n",
    "print(f'hola yo soy {my_str}')# El operador + concatena los strings\n",
    "print(f'hola yo soy {my_str}' * 10)# El operador + concatena los strings"
   ]
  },
  {
   "cell_type": "code",
   "execution_count": null,
   "metadata": {},
   "outputs": [],
   "source": [
    "#Recibie variables por teclado\n",
    "nombre = input('cual es tu nombre: ')\n",
    "print('tu nombre es ', nombre)\n",
    "numero = int(input('ingrese un numero: ')) #Siempre se debe parsear a la variable que se desea porque el imput siempre lo recibe todo \n",
    "print('el numero es ', numero)\n",
    "print(type(numero))\n"
   ]
  },
  {
   "cell_type": "code",
   "execution_count": null,
   "metadata": {},
   "outputs": [],
   "source": [
    "#programas ramificados \"CONDICIONALES\"\n",
    "a = int(input('ingrese un numero: '))\n",
    "b = int(input('ingrese un numero: '))\n",
    "if a < b:\n",
    "\n",
    "elif a == b:\n",
    "\n",
    "else:\n",
    "    print(\"Condicion else\")\n",
    "#ciclo while\n",
    "#ciclo for\n",
    "cadena = 'hola mundo'\n",
    "for letra in cadena:\n",
    "    print(letra)\n"
   ]
  },
  {
   "cell_type": "code",
   "execution_count": null,
   "metadata": {},
   "outputs": [],
   "source": [
    "#enumeracion exhaustiva\n",
    "objetivo = int(input('escoge un entero'))\n",
    "respuesta = 0\n",
    "while respuesta**2 < objetivo:\n",
    "    respuesta+=1\n",
    "if respuesta ** 2 == objetivo:\n",
    "    print(f'la raiz cuadrada de {objetivo} es {respuesta}')\n",
    "else:\n",
    "    print('no tiene raiz cuadrada exacta') "
   ]
  },
  {
   "cell_type": "code",
   "execution_count": null,
   "metadata": {},
   "outputs": [],
   "source": [
    "#aproximacion de solucion\n",
    "\n",
    "objetivo = int(input('escoge un entero'))\n",
    "epsilon = 0.01\n",
    "paso = epsilon**2\n",
    "respuesta=0.0\n",
    "while abs(respuesta**2 - objetivo) >= epsilon and respuesta <= objetivo:\n",
    "    print(abs(respuesta**2 - objetivo), respuesta)\n",
    "    respuesta+=paso\n",
    "if abs(respuesta**2 - objetivo) >= epsilon:\n",
    "    print(f'no se encontro la raiz de {objetivo}')\n",
    "else: \n",
    "    print(f' la raiz de {objetivo} es {respuesta}')\n"
   ]
  },
  {
   "cell_type": "code",
   "execution_count": null,
   "metadata": {},
   "outputs": [],
   "source": [
    "#busqueda binaria\n",
    "objetivo = int(input('ingrese el numero: '))\n",
    "epsilon = 0.001\n",
    "bajo=0.0\n",
    "alto=max(1.0, objetivo)\n",
    "respuesta = (alto + bajo)/2\n",
    "\n",
    "while abs(respuesta**2 - objetivo) >= epsilon:\n",
    "    print(f'el bajo {bajo} alto {alto} respuesta {respuesta}')\n",
    "    if respuesta**2 < objetivo:\n",
    "        bajo = respuesta\n",
    "    else:\n",
    "        alto = respuesta\n",
    "    respuesta=(alto + bajo) / 2\n",
    "print(f'la raiz cuadrada de {objetivo} es {respuesta}')\n",
    "\n",
    "    "
   ]
  },
  {
   "cell_type": "markdown",
   "metadata": {},
   "source": [
    "<h1> Definición de funciones <h1>"
   ],
   "execution_count": null,
   "outputs": []
  },
  {
   "cell_type": "code",
   "execution_count": null,
   "metadata": {},
   "outputs": [],
   "source": [
    "def suma (a,b): #las funciones se pueden enviar tambien por kewords\n",
    "    total = a+b\n",
    "    return total\n",
    "suma(5,6)"
   ]
  },
  {
   "cell_type": "code",
   "execution_count": 10,
   "metadata": {},
   "outputs": [
    {
     "output_type": "stream",
     "name": "stdout",
     "text": "Help on function multiplicacion in module __main__:\n\nmultiplicacion(a, b)\n    Funcion que multiplica dos numero\n    \n    Recibe dos enteros cualquiera\n    a = entero cualquiera\n    b = entero cualquiera\n    \n    return resultado de la multiplicacion entre a y b\n\n"
    }
   ],
   "source": [
    "#comentareado o especificaiones de codigo (doc strings)\n",
    "def multiplicacion(a,b):\n",
    "    \"\"\"\n",
    "    Funcion que multiplica dos numero\n",
    "\n",
    "    Recibe dos enteros cualquiera\n",
    "    a = entero cualquiera\n",
    "    b = entero cualquiera\n",
    "\n",
    "    return resultado de la multiplicacion entre a y b\n",
    "\n",
    "    \"\"\"\n",
    "    return a * b\n",
    "\n",
    "multiplicacion(5,5)\n",
    "\n",
    "help(multiplicacion)"
   ]
  },
  {
   "cell_type": "code",
   "execution_count": null,
   "metadata": {},
   "outputs": [],
   "source": [
    "#recuersividad\n",
    "\"\"\"\n",
    "\n",
    "\"\"\"\n",
    "\n",
    "def factorial(n):\n",
    "    \"\"\"\n",
    "    calcula el factorial de n\n",
    "    n entero positivo\n",
    "    return n!\n",
    "    \"\"\"\n",
    "    if n == 1:\n",
    "        return 1\n",
    "    return n * factorial(n - 1)\n",
    "\n",
    "n=int(input('ingrese un entero positivo:'))\n",
    "factorial(n)\n"
   ]
  },
  {
   "cell_type": "code",
   "execution_count": 17,
   "metadata": {},
   "outputs": [
    {
     "output_type": "stream",
     "name": "stdout",
     "text": "<class 'tuple'>\n<class 'tuple'>\n1 dos True\n"
    }
   ],
   "source": [
    "#tuplas, estructura de datos\n",
    "\n",
    "tup1 = () \n",
    "tup2 = tuple()\n",
    "print(type(tup1))\n",
    "print(type(tup2))\n",
    "tup1 = (1,'dos', True)\n",
    "#tup1 = (1,)\n",
    "#print(type(tup1))\n",
    "x,y,z = tup1\n",
    "print(x,y,z)\n",
    "\n",
    "#las duplas se pueden operar de todas formas"
   ]
  },
  {
   "cell_type": "code",
   "execution_count": 19,
   "metadata": {},
   "outputs": [],
   "source": [
    "#rangos igual que en matlab"
   ]
  },
  {
   "cell_type": "code",
   "execution_count": 23,
   "metadata": {},
   "outputs": [
    {
     "output_type": "stream",
     "name": "stdout",
     "text": "[1, 3, 5, 7] [1, 3, 5, 7]\n2300651237128 2300651237128\n[1, 3, 5, 7] [1, 3, 5, 7]\n2300651237128 2300657238344\n"
    }
   ],
   "source": [
    "my_list = []\n",
    "my_list2 = list()\n",
    "#Las listas tienen varias comandos que vienen por defecto\n",
    "my_list = [1,3,5]\n",
    "my_list2 = [2,4,6]\n",
    "my_list3 = my_list \n",
    "my_list.append(7)\n",
    "print(my_list, my_list3)\n",
    "print(id(my_list),id(my_list3))\n",
    "my_list3 = list(my_list)\n",
    "print(my_list, my_list3)\n",
    "print(id(my_list),id(my_list3))"
   ]
  },
  {
   "cell_type": "code",
   "execution_count": null,
   "metadata": {},
   "outputs": [],
   "source": [
    "#diccionario\n",
    "#my_dict = dict()\n",
    "my_dict = {\n",
    "    'david' = 12,\n",
    "    'joahn' = 10,\n",
    "    'ñea' = 12\n",
    "}\n",
    "print(my_dict)\n",
    "print(my_dict['david'])\n",
    "\n",
    "print(my_dict.get('dacv',False))\n",
    "\n",
    "del my_dict['david']\n",
    "print(my_dict)\n",
    "\n",
    "my_dict[\"joahn\"] = 12\n",
    "\n",
    "#El diccionario se puede mostrar por valor, por llave y por llave y valor. Esto con los comandos que vienen por defecto\n"
   ]
  }
 ]
}